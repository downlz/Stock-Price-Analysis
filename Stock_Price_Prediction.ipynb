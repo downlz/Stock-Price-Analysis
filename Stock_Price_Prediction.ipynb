{
  "nbformat": 4,
  "nbformat_minor": 0,
  "metadata": {
    "colab": {
      "name": "Stock Price Prediction.ipynb",
      "version": "0.3.2",
      "provenance": [],
      "collapsed_sections": []
    },
    "kernelspec": {
      "name": "python3",
      "display_name": "Python 3"
    }
  },
  "cells": [
    {
      "cell_type": "markdown",
      "metadata": {
        "id": "pdZLQFd9Aa5V",
        "colab_type": "text"
      },
      "source": [
        "**A sample notebook to predict stock prices using multiple regression methods**"
      ]
    },
    {
      "cell_type": "markdown",
      "metadata": {
        "id": "H6w3t1B0-qLC",
        "colab_type": "text"
      },
      "source": [
        "**Import dependencies**"
      ]
    },
    {
      "cell_type": "code",
      "metadata": {
        "id": "XkZO2a3adHaa",
        "colab_type": "code",
        "colab": {}
      },
      "source": [
        "import pandas as pd\n",
        "import datetime\n",
        "import math\n",
        "import pandas_datareader.data as web\n",
        "from pandas import Series, DataFrame\n",
        "\n",
        "%matplotlib inline\n",
        "import matplotlib.pyplot as plt\n",
        "from matplotlib import style\n",
        "\n",
        "import matplotlib as mpl"
      ],
      "execution_count": 0,
      "outputs": []
    },
    {
      "cell_type": "code",
      "metadata": {
        "id": "V9e6hRpFPxPU",
        "colab_type": "code",
        "outputId": "89e22815-94d0-46d1-99ff-776deef9c61d",
        "colab": {
          "resources": {
            "http://localhost:8080/nbextensions/google.colab/files.js": {
              "data": "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",
              "ok": true,
              "headers": [
                [
                  "content-type",
                  "application/javascript"
                ]
              ],
              "status": 200,
              "status_text": "OK"
            }
          },
          "base_uri": "https://localhost:8080/",
          "height": 72
        }
      },
      "source": [
        "from google.colab import files\n",
        "uploaded = files.upload()\n",
        "df=pd.read_csv(\"AAPL.csv\")     #File name should be AAPL.csv else it won't be able to read the file"
      ],
      "execution_count": 230,
      "outputs": [
        {
          "output_type": "display_data",
          "data": {
            "text/html": [
              "\n",
              "     <input type=\"file\" id=\"files-4b959201-0cae-4913-9295-e65177182da4\" name=\"files[]\" multiple disabled />\n",
              "     <output id=\"result-4b959201-0cae-4913-9295-e65177182da4\">\n",
              "      Upload widget is only available when the cell has been executed in the\n",
              "      current browser session. Please rerun this cell to enable.\n",
              "      </output>\n",
              "      <script src=\"/nbextensions/google.colab/files.js\"></script> "
            ],
            "text/plain": [
              "<IPython.core.display.HTML object>"
            ]
          },
          "metadata": {
            "tags": []
          }
        },
        {
          "output_type": "stream",
          "text": [
            "Saving AAPL.csv to AAPL (5).csv\n"
          ],
          "name": "stdout"
        }
      ]
    },
    {
      "cell_type": "code",
      "metadata": {
        "id": "Zs4Sy8CnMkmV",
        "colab_type": "code",
        "colab": {}
      },
      "source": [
        "#setting index as date\n",
        "df['Date'] = pd.to_datetime(df.Date,format='%Y-%m-%d')\n",
        "df.index = df['Date']"
      ],
      "execution_count": 0,
      "outputs": []
    },
    {
      "cell_type": "code",
      "metadata": {
        "id": "Vd9jX6p72K_z",
        "colab_type": "code",
        "colab": {}
      },
      "source": [
        "close_px = df['Adj Close']\n",
        "mavg = close_px.rolling(window=100).mean()"
      ],
      "execution_count": 0,
      "outputs": []
    },
    {
      "cell_type": "code",
      "metadata": {
        "id": "INeRfzO_2e0B",
        "colab_type": "code",
        "outputId": "bd4877b9-c632-4917-b23a-406de5185f3e",
        "colab": {
          "base_uri": "https://localhost:8080/",
          "height": 300
        }
      },
      "source": [
        "df.describe()"
      ],
      "execution_count": 233,
      "outputs": [
        {
          "output_type": "execute_result",
          "data": {
            "text/html": [
              "<div>\n",
              "<style scoped>\n",
              "    .dataframe tbody tr th:only-of-type {\n",
              "        vertical-align: middle;\n",
              "    }\n",
              "\n",
              "    .dataframe tbody tr th {\n",
              "        vertical-align: top;\n",
              "    }\n",
              "\n",
              "    .dataframe thead th {\n",
              "        text-align: right;\n",
              "    }\n",
              "</style>\n",
              "<table border=\"1\" class=\"dataframe\">\n",
              "  <thead>\n",
              "    <tr style=\"text-align: right;\">\n",
              "      <th></th>\n",
              "      <th>Open</th>\n",
              "      <th>High</th>\n",
              "      <th>Low</th>\n",
              "      <th>Close</th>\n",
              "      <th>Adj Close</th>\n",
              "      <th>Volume</th>\n",
              "    </tr>\n",
              "  </thead>\n",
              "  <tbody>\n",
              "    <tr>\n",
              "      <th>count</th>\n",
              "      <td>755.000000</td>\n",
              "      <td>755.000000</td>\n",
              "      <td>755.000000</td>\n",
              "      <td>755.000000</td>\n",
              "      <td>755.000000</td>\n",
              "      <td>7.550000e+02</td>\n",
              "    </tr>\n",
              "    <tr>\n",
              "      <th>mean</th>\n",
              "      <td>167.968411</td>\n",
              "      <td>169.451722</td>\n",
              "      <td>166.570676</td>\n",
              "      <td>168.057881</td>\n",
              "      <td>164.452889</td>\n",
              "      <td>3.073456e+07</td>\n",
              "    </tr>\n",
              "    <tr>\n",
              "      <th>std</th>\n",
              "      <td>31.027408</td>\n",
              "      <td>31.421389</td>\n",
              "      <td>30.624030</td>\n",
              "      <td>30.982573</td>\n",
              "      <td>32.023217</td>\n",
              "      <td>1.355516e+07</td>\n",
              "    </tr>\n",
              "    <tr>\n",
              "      <th>min</th>\n",
              "      <td>102.650002</td>\n",
              "      <td>105.720001</td>\n",
              "      <td>102.529999</td>\n",
              "      <td>103.129997</td>\n",
              "      <td>98.307373</td>\n",
              "      <td>1.136200e+07</td>\n",
              "    </tr>\n",
              "    <tr>\n",
              "      <th>25%</th>\n",
              "      <td>147.165001</td>\n",
              "      <td>148.385002</td>\n",
              "      <td>145.625000</td>\n",
              "      <td>147.284997</td>\n",
              "      <td>142.365319</td>\n",
              "      <td>2.157400e+07</td>\n",
              "    </tr>\n",
              "    <tr>\n",
              "      <th>50%</th>\n",
              "      <td>170.600006</td>\n",
              "      <td>172.139999</td>\n",
              "      <td>169.490005</td>\n",
              "      <td>170.889999</td>\n",
              "      <td>167.156677</td>\n",
              "      <td>2.706830e+07</td>\n",
              "    </tr>\n",
              "    <tr>\n",
              "      <th>75%</th>\n",
              "      <td>190.695000</td>\n",
              "      <td>191.970001</td>\n",
              "      <td>189.324997</td>\n",
              "      <td>190.855004</td>\n",
              "      <td>187.801865</td>\n",
              "      <td>3.570240e+07</td>\n",
              "    </tr>\n",
              "    <tr>\n",
              "      <th>max</th>\n",
              "      <td>230.779999</td>\n",
              "      <td>233.470001</td>\n",
              "      <td>229.779999</td>\n",
              "      <td>232.070007</td>\n",
              "      <td>228.523819</td>\n",
              "      <td>1.119850e+08</td>\n",
              "    </tr>\n",
              "  </tbody>\n",
              "</table>\n",
              "</div>"
            ],
            "text/plain": [
              "             Open        High         Low       Close   Adj Close        Volume\n",
              "count  755.000000  755.000000  755.000000  755.000000  755.000000  7.550000e+02\n",
              "mean   167.968411  169.451722  166.570676  168.057881  164.452889  3.073456e+07\n",
              "std     31.027408   31.421389   30.624030   30.982573   32.023217  1.355516e+07\n",
              "min    102.650002  105.720001  102.529999  103.129997   98.307373  1.136200e+07\n",
              "25%    147.165001  148.385002  145.625000  147.284997  142.365319  2.157400e+07\n",
              "50%    170.600006  172.139999  169.490005  170.889999  167.156677  2.706830e+07\n",
              "75%    190.695000  191.970001  189.324997  190.855004  187.801865  3.570240e+07\n",
              "max    230.779999  233.470001  229.779999  232.070007  228.523819  1.119850e+08"
            ]
          },
          "metadata": {
            "tags": []
          },
          "execution_count": 233
        }
      ]
    },
    {
      "cell_type": "code",
      "metadata": {
        "id": "Zzy9JPZc25YP",
        "colab_type": "code",
        "outputId": "e08c719b-7aca-4ea7-9bd8-ec9cb0e20acb",
        "colab": {
          "base_uri": "https://localhost:8080/",
          "height": 708
        }
      },
      "source": [
        "#Setting Graph Size\n",
        "mpl.rc('figure', figsize=(14, 12))\n",
        "mpl.__version__\n",
        "\n",
        "plt.imshow(df.corr(), cmap='hot', interpolation='none')\n",
        "plt.colorbar()"
      ],
      "execution_count": 234,
      "outputs": [
        {
          "output_type": "execute_result",
          "data": {
            "text/plain": [
              "<matplotlib.colorbar.Colorbar at 0x7f9c9eab4da0>"
            ]
          },
          "metadata": {
            "tags": []
          },
          "execution_count": 234
        },
        {
          "output_type": "display_data",
          "data": {
            "image/png": "[encoded data removed]",
            "text/plain": [
              "<Figure size 1008x864 with 2 Axes>"
            ]
          },
          "metadata": {
            "tags": []
          }
        }
      ]
    },
    {
      "cell_type": "markdown",
      "metadata": {
        "id": "7qVSn-uVM_nk",
        "colab_type": "text"
      },
      "source": [
        "Exploring Moving Average"
      ]
    },
    {
      "cell_type": "code",
      "metadata": {
        "id": "N2Ub81RA-WYS",
        "colab_type": "code",
        "outputId": "253c7744-ab30-4b3f-a31b-236f242b7355",
        "colab": {
          "base_uri": "https://localhost:8080/",
          "height": 692
        }
      },
      "source": [
        "# Adjusting the style of matplotlib\n",
        "style.use('ggplot')\n",
        "close_px.plot(label='AAPL')    #Replace with stock name \n",
        "mavg.plot(label='Moving Avg')\n",
        "plt.legend()"
      ],
      "execution_count": 235,
      "outputs": [
        {
          "output_type": "execute_result",
          "data": {
            "text/plain": [
              "<matplotlib.legend.Legend at 0x7f9c9ed555c0>"
            ]
          },
          "metadata": {
            "tags": []
          },
          "execution_count": 235
        },
        {
          "output_type": "display_data",
          "data": {
            "image/png": "[encoded data removed]",
            "text/plain": [
              "<Figure size 1008x864 with 1 Axes>"
            ]
          },
          "metadata": {
            "tags": []
          }
        }
      ]
    },
    {
      "cell_type": "markdown",
      "metadata": {
        "id": "fOCUsGso-sXW",
        "colab_type": "text"
      },
      "source": [
        "Set Features"
      ]
    },
    {
      "cell_type": "code",
      "metadata": {
        "id": "SJ1P9Cvw-rTk",
        "colab_type": "code",
        "colab": {}
      },
      "source": [
        "dfreg = df.loc[:,['Adj Close','Volume']]\n",
        "dfreg['HL_PCT'] = (df['High'] - df['Low']) / df['Close'] * 100.0\n",
        "dfreg['PCT_change'] = (df['Close'] - df['Open']) / df['Open'] * 100.0"
      ],
      "execution_count": 0,
      "outputs": []
    },
    {
      "cell_type": "code",
      "metadata": {
        "id": "rZYyIyoBzTzV",
        "colab_type": "code",
        "colab": {}
      },
      "source": [
        "last_date_record = dfreg.iloc[-1].name #Storing last date for plotting graph"
      ],
      "execution_count": 0,
      "outputs": []
    },
    {
      "cell_type": "code",
      "metadata": {
        "id": "qLQuNL2F_Y-A",
        "colab_type": "code",
        "outputId": "24ec781a-7100-4995-a269-ae5445eeb179",
        "colab": {
          "base_uri": "https://localhost:8080/",
          "height": 238
        }
      },
      "source": [
        "dfreg.tail()"
      ],
      "execution_count": 238,
      "outputs": [
        {
          "output_type": "execute_result",
          "data": {
            "text/html": [
              "<div>\n",
              "<style scoped>\n",
              "    .dataframe tbody tr th:only-of-type {\n",
              "        vertical-align: middle;\n",
              "    }\n",
              "\n",
              "    .dataframe tbody tr th {\n",
              "        vertical-align: top;\n",
              "    }\n",
              "\n",
              "    .dataframe thead th {\n",
              "        text-align: right;\n",
              "    }\n",
              "</style>\n",
              "<table border=\"1\" class=\"dataframe\">\n",
              "  <thead>\n",
              "    <tr style=\"text-align: right;\">\n",
              "      <th></th>\n",
              "      <th>Adj Close</th>\n",
              "      <th>Volume</th>\n",
              "      <th>HL_PCT</th>\n",
              "      <th>PCT_change</th>\n",
              "    </tr>\n",
              "    <tr>\n",
              "      <th>Date</th>\n",
              "      <th></th>\n",
              "      <th></th>\n",
              "      <th></th>\n",
              "      <th></th>\n",
              "    </tr>\n",
              "  </thead>\n",
              "  <tbody>\n",
              "    <tr>\n",
              "      <th>2019-08-30</th>\n",
              "      <td>208.740005</td>\n",
              "      <td>21143400</td>\n",
              "      <td>1.556961</td>\n",
              "      <td>-0.675675</td>\n",
              "    </tr>\n",
              "    <tr>\n",
              "      <th>2019-09-03</th>\n",
              "      <td>205.699997</td>\n",
              "      <td>20023000</td>\n",
              "      <td>1.341757</td>\n",
              "      <td>-0.353629</td>\n",
              "    </tr>\n",
              "    <tr>\n",
              "      <th>2019-09-04</th>\n",
              "      <td>209.190002</td>\n",
              "      <td>19188100</td>\n",
              "      <td>1.032549</td>\n",
              "      <td>0.383897</td>\n",
              "    </tr>\n",
              "    <tr>\n",
              "      <th>2019-09-05</th>\n",
              "      <td>213.279999</td>\n",
              "      <td>23913700</td>\n",
              "      <td>1.153416</td>\n",
              "      <td>0.603773</td>\n",
              "    </tr>\n",
              "    <tr>\n",
              "      <th>2019-09-06</th>\n",
              "      <td>213.259995</td>\n",
              "      <td>19350800</td>\n",
              "      <td>0.895622</td>\n",
              "      <td>-0.369076</td>\n",
              "    </tr>\n",
              "  </tbody>\n",
              "</table>\n",
              "</div>"
            ],
            "text/plain": [
              "             Adj Close    Volume    HL_PCT  PCT_change\n",
              "Date                                                  \n",
              "2019-08-30  208.740005  21143400  1.556961   -0.675675\n",
              "2019-09-03  205.699997  20023000  1.341757   -0.353629\n",
              "2019-09-04  209.190002  19188100  1.032549    0.383897\n",
              "2019-09-05  213.279999  23913700  1.153416    0.603773\n",
              "2019-09-06  213.259995  19350800  0.895622   -0.369076"
            ]
          },
          "metadata": {
            "tags": []
          },
          "execution_count": 238
        }
      ]
    },
    {
      "cell_type": "code",
      "metadata": {
        "id": "SHS1CQzw_4x9",
        "colab_type": "code",
        "colab": {}
      },
      "source": [
        "# Drop missing value\n",
        "import math\n",
        "import numpy as np\n",
        "from sklearn import preprocessing\n",
        "dfreg.fillna(value=0, inplace=True)\n",
        "\n",
        "# We want to separate 1 percent of the data to forecast\n",
        "forecast_out = int(math.ceil(0.01 * len(dfreg)))\n",
        "\n",
        "# Separating the label here, we want to predict the AdjClose\n",
        "forecast_col = 'Adj Close'\n",
        "dfreg['label'] = dfreg[forecast_col].shift(-forecast_out)\n",
        "X = np.array(dfreg.drop(['label'], 1))\n",
        "\n",
        "# Scale the X so that everyone can have the same distribution for linear regression\n",
        "X = preprocessing.scale(X)\n",
        "\n",
        "# Finally We want to find Data Series of late X and early X (train) for model generation and evaluation\n",
        "X_lately = X[-forecast_out:]\n",
        "X = X[:-forecast_out]\n",
        "\n",
        "# Separate label and identify it as y\n",
        "y = np.array(dfreg['label'])\n",
        "y = y[:-forecast_out]"
      ],
      "execution_count": 0,
      "outputs": []
    },
    {
      "cell_type": "markdown",
      "metadata": {
        "id": "vL-LqHey_bHI",
        "colab_type": "text"
      },
      "source": [
        "Import Scikit Learn dependencies for training the model"
      ]
    },
    {
      "cell_type": "code",
      "metadata": {
        "id": "-OYo3lXXADes",
        "colab_type": "code",
        "colab": {}
      },
      "source": [
        "from sklearn import linear_model\n",
        "from sklearn.linear_model import LinearRegression\n",
        "\n",
        "from sklearn.linear_model import Ridge\n",
        "from sklearn.linear_model import Lasso\n",
        "from sklearn.linear_model import LogisticRegression\n",
        "from sklearn.preprocessing import PolynomialFeatures\n",
        "from sklearn.pipeline import make_pipeline"
      ],
      "execution_count": 0,
      "outputs": []
    },
    {
      "cell_type": "code",
      "metadata": {
        "id": "JAynOaMAAuoU",
        "colab_type": "code",
        "outputId": "2c059541-518a-492e-c671-b7b42b086a61",
        "colab": {
          "base_uri": "https://localhost:8080/",
          "height": 69
        }
      },
      "source": [
        "# Setting Test and Training Data\n",
        "from sklearn.model_selection import train_test_split \n",
        "X_train, X_test, y_train, y_test = train_test_split(X, y, test_size=0.30, random_state=0)\n",
        "\n",
        "# Linear regression\n",
        "clfreg = LinearRegression(n_jobs=-1)\n",
        "clfreg.fit(X_train, y_train)\n",
        "\n",
        "#Lasso Regression\n",
        "clflasreg = linear_model.Lasso(alpha=0.1)\n",
        "clflasreg.fit(X_train, y_train)\n",
        "\n",
        "# Quadratic Regression 3\n",
        "clfpoly3 = make_pipeline(PolynomialFeatures(3), Ridge())\n",
        "clfpoly3.fit(X_train, y_train)\n",
        "\n",
        "#Logistic Regression\n",
        "clfbay = linear_model.BayesianRidge()\n",
        "clfbay.fit(X_train, y_train)"
      ],
      "execution_count": 241,
      "outputs": [
        {
          "output_type": "execute_result",
          "data": {
            "text/plain": [
              "BayesianRidge(alpha_1=1e-06, alpha_2=1e-06, compute_score=False, copy_X=True,\n",
              "              fit_intercept=True, lambda_1=1e-06, lambda_2=1e-06, n_iter=300,\n",
              "              normalize=False, tol=0.001, verbose=False)"
            ]
          },
          "metadata": {
            "tags": []
          },
          "execution_count": 241
        }
      ]
    },
    {
      "cell_type": "code",
      "metadata": {
        "id": "UUhlYo0KBZRf",
        "colab_type": "code",
        "colab": {}
      },
      "source": [
        "confidencereg = clfreg.score(X_test, y_test)\n",
        "confidencelassref = clflasreg.score(X_test, y_test)\n",
        "confidencepoly3 = clfpoly3.score(X_test,y_test)\n",
        "confidencbay = clfbay.score(X_test,y_test)\n"
      ],
      "execution_count": 0,
      "outputs": []
    },
    {
      "cell_type": "markdown",
      "metadata": {
        "id": "cBqVxKB-sHzM",
        "colab_type": "text"
      },
      "source": [
        "**Showing Confidence Score**"
      ]
    },
    {
      "cell_type": "code",
      "metadata": {
        "id": "Kst4tujIrQ85",
        "colab_type": "code",
        "outputId": "eeb8df78-674b-4b42-9414-47d2a2e3bbd8",
        "colab": {
          "base_uri": "https://localhost:8080/",
          "height": 86
        }
      },
      "source": [
        "print(confidencereg)\n",
        "print(confidencelassref)\n",
        "print(confidencepoly3)\n",
        "print(confidencbay)"
      ],
      "execution_count": 243,
      "outputs": [
        {
          "output_type": "stream",
          "text": [
            "0.9451859754045806\n",
            "0.9448181071117937\n",
            "0.9333444342120191\n",
            "0.9451899505407497\n"
          ],
          "name": "stdout"
        }
      ]
    },
    {
      "cell_type": "markdown",
      "metadata": {
        "id": "jw-0u0Xm_-_B",
        "colab_type": "text"
      },
      "source": [
        "Bayesian regression has the highest confidence"
      ]
    },
    {
      "cell_type": "code",
      "metadata": {
        "id": "gt_M-re7Bfmq",
        "colab_type": "code",
        "colab": {}
      },
      "source": [
        "forecast_set_lin = clfreg.predict(X_lately)\n",
        "forecast_set_las = clflasreg.predict(X_lately)\n",
        "forecast_set_qua = clfpoly3.predict(X_lately)\n",
        "forecast_set_bay = clfbay.predict(X_lately)\n",
        "dfreg['Forecast'] = np.nan           # Marking past forecast value as NaN and we will be calculating future value for next 8 records (Ceil of 1% of 755 records)"
      ],
      "execution_count": 0,
      "outputs": []
    },
    {
      "cell_type": "code",
      "metadata": {
        "id": "wSfHhVs59Qp9",
        "colab_type": "code",
        "outputId": "21243b69-fd74-424a-ca62-1c08ca279961",
        "colab": {
          "base_uri": "https://localhost:8080/",
          "height": 156
        }
      },
      "source": [
        "print('Values for Linear Regression ' + str(forecast_set_lin))\n",
        "print('Values for Lasso Regression ' + str(forecast_set_las))\n",
        "print('Values for Quadratic Regression ' + str(forecast_set_qua))\n",
        "print('Values for Bayesian Regression ' + str(forecast_set_bay))"
      ],
      "execution_count": 245,
      "outputs": [
        {
          "output_type": "stream",
          "text": [
            "Values for Linear Regression [204.64925873 205.8588526  208.91971216 208.87787238 205.91699702\n",
            " 209.10726286 212.70486434 213.02719582]\n",
            "Values for Lasso Regression [204.10590333 205.68923716 208.78697471 208.58471724 205.6936056\n",
            " 209.01661963 212.6983723  212.90871667]\n",
            "Values for Quadratic Regression [208.46982266 208.14660427 209.92813032 211.7689271  208.10169489\n",
            " 209.81076792 212.08197054 213.84946544]\n",
            "Values for Bayesian Regression [204.63522824 205.84075123 208.8992199  208.85868395 205.89849248\n",
            " 209.08597961 212.68118529 213.0031968 ]\n"
          ],
          "name": "stdout"
        }
      ]
    },
    {
      "cell_type": "markdown",
      "metadata": {
        "id": "BwyP4sqV0l6C",
        "colab_type": "text"
      },
      "source": [
        "**Stock Price using Bayesian Regression as it as highest confidence**"
      ]
    },
    {
      "cell_type": "code",
      "metadata": {
        "id": "sO2p9TYgBze1",
        "colab_type": "code",
        "outputId": "8304f773-619b-4767-a1ea-3ab952503cd7",
        "colab": {
          "base_uri": "https://localhost:8080/",
          "height": 684
        }
      },
      "source": [
        "last_date = last_date_record\n",
        "last_unix = last_date\n",
        "next_unix = last_unix + datetime.timedelta(days=1)\n",
        "\n",
        "for i in forecast_set_bay:\n",
        "    next_date = next_unix\n",
        "    next_unix += datetime.timedelta(days=1)\n",
        "    dfreg.loc[next_date] = [np.nan for _ in range(len(dfreg.columns)-1)]+[i]\n",
        "\n",
        "#Showing last 30 data points\n",
        "dfreg['Adj Close'].tail(30).plot()\n",
        "dfreg['Forecast'].tail(30).plot(label='Future Price')\n",
        "plt.legend(loc=4)\n",
        "plt.xlabel('Date')\n",
        "plt.ylabel('Price')\n",
        "plt.show()"
      ],
      "execution_count": 247,
      "outputs": [
        {
          "output_type": "display_data",
          "data": {
            "image/png": "[encoded data removed]",
            "text/plain": [
              "<Figure size 1008x864 with 1 Axes>"
            ]
          },
          "metadata": {
            "tags": []
          }
        }
      ]
    },
    {
      "cell_type": "code",
      "metadata": {
        "id": "zxSgtXjiBGbB",
        "colab_type": "code",
        "colab": {
          "base_uri": "https://localhost:8080/",
          "height": 394
        },
        "outputId": "c86042e8-39fa-4472-9c4d-66ed7e2953d0"
      },
      "source": [
        "dfreg.tail(10) #Showing stock price data"
      ],
      "execution_count": 248,
      "outputs": [
        {
          "output_type": "execute_result",
          "data": {
            "text/html": [
              "<div>\n",
              "<style scoped>\n",
              "    .dataframe tbody tr th:only-of-type {\n",
              "        vertical-align: middle;\n",
              "    }\n",
              "\n",
              "    .dataframe tbody tr th {\n",
              "        vertical-align: top;\n",
              "    }\n",
              "\n",
              "    .dataframe thead th {\n",
              "        text-align: right;\n",
              "    }\n",
              "</style>\n",
              "<table border=\"1\" class=\"dataframe\">\n",
              "  <thead>\n",
              "    <tr style=\"text-align: right;\">\n",
              "      <th></th>\n",
              "      <th>Adj Close</th>\n",
              "      <th>Volume</th>\n",
              "      <th>HL_PCT</th>\n",
              "      <th>PCT_change</th>\n",
              "      <th>label</th>\n",
              "      <th>Forecast</th>\n",
              "    </tr>\n",
              "    <tr>\n",
              "      <th>Date</th>\n",
              "      <th></th>\n",
              "      <th></th>\n",
              "      <th></th>\n",
              "      <th></th>\n",
              "      <th></th>\n",
              "      <th></th>\n",
              "    </tr>\n",
              "  </thead>\n",
              "  <tbody>\n",
              "    <tr>\n",
              "      <th>2019-09-05</th>\n",
              "      <td>213.279999</td>\n",
              "      <td>23913700.0</td>\n",
              "      <td>1.153416</td>\n",
              "      <td>0.603773</td>\n",
              "      <td>NaN</td>\n",
              "      <td>NaN</td>\n",
              "    </tr>\n",
              "    <tr>\n",
              "      <th>2019-09-06</th>\n",
              "      <td>213.259995</td>\n",
              "      <td>19350800.0</td>\n",
              "      <td>0.895622</td>\n",
              "      <td>-0.369076</td>\n",
              "      <td>NaN</td>\n",
              "      <td>NaN</td>\n",
              "    </tr>\n",
              "    <tr>\n",
              "      <th>2019-09-07</th>\n",
              "      <td>NaN</td>\n",
              "      <td>NaN</td>\n",
              "      <td>NaN</td>\n",
              "      <td>NaN</td>\n",
              "      <td>NaN</td>\n",
              "      <td>204.635228</td>\n",
              "    </tr>\n",
              "    <tr>\n",
              "      <th>2019-09-08</th>\n",
              "      <td>NaN</td>\n",
              "      <td>NaN</td>\n",
              "      <td>NaN</td>\n",
              "      <td>NaN</td>\n",
              "      <td>NaN</td>\n",
              "      <td>205.840751</td>\n",
              "    </tr>\n",
              "    <tr>\n",
              "      <th>2019-09-09</th>\n",
              "      <td>NaN</td>\n",
              "      <td>NaN</td>\n",
              "      <td>NaN</td>\n",
              "      <td>NaN</td>\n",
              "      <td>NaN</td>\n",
              "      <td>208.899220</td>\n",
              "    </tr>\n",
              "    <tr>\n",
              "      <th>2019-09-10</th>\n",
              "      <td>NaN</td>\n",
              "      <td>NaN</td>\n",
              "      <td>NaN</td>\n",
              "      <td>NaN</td>\n",
              "      <td>NaN</td>\n",
              "      <td>208.858684</td>\n",
              "    </tr>\n",
              "    <tr>\n",
              "      <th>2019-09-11</th>\n",
              "      <td>NaN</td>\n",
              "      <td>NaN</td>\n",
              "      <td>NaN</td>\n",
              "      <td>NaN</td>\n",
              "      <td>NaN</td>\n",
              "      <td>205.898492</td>\n",
              "    </tr>\n",
              "    <tr>\n",
              "      <th>2019-09-12</th>\n",
              "      <td>NaN</td>\n",
              "      <td>NaN</td>\n",
              "      <td>NaN</td>\n",
              "      <td>NaN</td>\n",
              "      <td>NaN</td>\n",
              "      <td>209.085980</td>\n",
              "    </tr>\n",
              "    <tr>\n",
              "      <th>2019-09-13</th>\n",
              "      <td>NaN</td>\n",
              "      <td>NaN</td>\n",
              "      <td>NaN</td>\n",
              "      <td>NaN</td>\n",
              "      <td>NaN</td>\n",
              "      <td>212.681185</td>\n",
              "    </tr>\n",
              "    <tr>\n",
              "      <th>2019-09-14</th>\n",
              "      <td>NaN</td>\n",
              "      <td>NaN</td>\n",
              "      <td>NaN</td>\n",
              "      <td>NaN</td>\n",
              "      <td>NaN</td>\n",
              "      <td>213.003197</td>\n",
              "    </tr>\n",
              "  </tbody>\n",
              "</table>\n",
              "</div>"
            ],
            "text/plain": [
              "             Adj Close      Volume    HL_PCT  PCT_change  label    Forecast\n",
              "Date                                                                       \n",
              "2019-09-05  213.279999  23913700.0  1.153416    0.603773    NaN         NaN\n",
              "2019-09-06  213.259995  19350800.0  0.895622   -0.369076    NaN         NaN\n",
              "2019-09-07         NaN         NaN       NaN         NaN    NaN  204.635228\n",
              "2019-09-08         NaN         NaN       NaN         NaN    NaN  205.840751\n",
              "2019-09-09         NaN         NaN       NaN         NaN    NaN  208.899220\n",
              "2019-09-10         NaN         NaN       NaN         NaN    NaN  208.858684\n",
              "2019-09-11         NaN         NaN       NaN         NaN    NaN  205.898492\n",
              "2019-09-12         NaN         NaN       NaN         NaN    NaN  209.085980\n",
              "2019-09-13         NaN         NaN       NaN         NaN    NaN  212.681185\n",
              "2019-09-14         NaN         NaN       NaN         NaN    NaN  213.003197"
            ]
          },
          "metadata": {
            "tags": []
          },
          "execution_count": 248
        }
      ]
    }
  ]
}